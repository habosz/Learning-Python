{
 "cells": [
  {
   "cell_type": "markdown",
   "metadata": {},
   "source": [
    "# Python, kolekcje, przepływ, funkcje"
   ]
  },
  {
   "cell_type": "markdown",
   "metadata": {},
   "source": [
    "Zadanie 1.1.1"
   ]
  },
  {
   "cell_type": "code",
   "execution_count": 2,
   "metadata": {},
   "outputs": [
    {
     "name": "stdout",
     "output_type": "stream",
     "text": [
      "['Python', 'is ok', 'sometimes']\n",
      "['Python', 'is neat']\n"
     ]
    }
   ],
   "source": [
    "my_list = list()\n",
    "my_list.append(\"Python\")\n",
    "my_list.append(\"is ok\")\n",
    "my_list.append(\"sometimes\")\n",
    "print(my_list)\n",
    "my_list.remove(\"sometimes\")\n",
    "my_list[1] = \"is neat\"\n",
    "print(my_list)\n",
    "assert my_list == [\"Python\", \"is neat\"]"
   ]
  },
  {
   "cell_type": "markdown",
   "metadata": {},
   "source": [
    "Zadanie 1.1.2"
   ]
  },
  {
   "cell_type": "code",
   "execution_count": null,
   "metadata": {},
   "outputs": [
    {
     "name": "stdout",
     "output_type": "stream",
     "text": [
      "['I', 'am', 'leaning', 'hacking', 'in', 'Python']\n"
     ]
    }
   ],
   "source": [
    "original = [\"I\", \"am\", \"leaning\", \"hacking\", \"in\"]\n",
    "# v1\n",
    "modified = [*original, 'Python']\n",
    "print(modified)\n",
    "# v2\n",
    "modified = original.copy()\n",
    "modified.append(\"Python\")\n",
    "modified[3] = \"lists\"\n",
    "# v3\n",
    "modified = [*original, 'Python']\n",
    "modified[3] = \"lists\"\n",
    "\n",
    "# # modified = original[:]\n",
    "# modified = original.copy\n",
    "# modified.append(\"Python\")\n",
    "# modified[3] = \"lists\"\n",
    "# print(original)\n",
    "# print(modified)"
   ]
  },
  {
   "cell_type": "markdown",
   "metadata": {},
   "source": [
    "Zadanie 1.1.3"
   ]
  },
  {
   "cell_type": "code",
   "execution_count": null,
   "metadata": {},
   "outputs": [
    {
     "name": "stdout",
     "output_type": "stream",
     "text": [
      "[14, 12, 6.2, 6, 5, 1, 0.9, 0]\n"
     ]
    }
   ],
   "source": [
    "list1 = [6, 12, 5]\n",
    "list2 = [6.2, 0, 14, 1]\n",
    "list3 = [0.9]\n",
    "\n",
    "# Twoja implementacja\n",
    "# v1\n",
    "combo = list1 + list2 + list3\n",
    "my_list = sorted(combo, reverse=True)\n",
    "print(my_list)\n",
    "\n",
    "# v2\n",
    "my_list = list1.copy()\n",
    "my_list.extend(list2)\n",
    "my_list.extend(list3)\n",
    "my_list = sorted(my_list, reverse=True)\n",
    "\n",
    "# v3\n",
    "my_list = sorted([*list1, *list2, *list3], reverse=True) # te gwiazki powodują, ze listy sa spajane a nie traktowane jako elementy wiekszej listy"
   ]
  },
  {
   "cell_type": "markdown",
   "metadata": {},
   "source": [
    "Zadanie 1.2.1"
   ]
  },
  {
   "cell_type": "code",
   "execution_count": null,
   "metadata": {},
   "outputs": [],
   "source": [
    "first_name = \"John\"\n",
    "last_name = \"Doe\"\n",
    "favorite_hobby = \"Python\"\n",
    "sports_hobby = \"gym\"\n",
    "age = 82\n",
    "\n",
    "# Twoja implementacja\n",
    "my_dict = {\n",
    "    \"name\" : f\"{first_name}{last_name}\", \n",
    "    \"age\" : age, \n",
    "    \"hobbies\" : {favorite_hobby}{sports_hobby}\n",
    "}\n",
    "\n",
    "my_dict = {\"name\": f\"{first_name} {last_name}\", \"age\": age, \"hobbies\": [favorite_hobby,sports_hobby]}\n",
    "print(my_dict)\n",
    "\n",
    "# Sprawdźmy czy otrzymaliśmy poprawny wynik\n",
    "assert my_dict == {\"name\": \"John Doe\", \"age\": 82, \"hobbies\": [\"Python\", \"gym\"]}"
   ]
  },
  {
   "cell_type": "markdown",
   "metadata": {},
   "source": [
    "Zadanie 1.2.2"
   ]
  },
  {
   "cell_type": "code",
   "execution_count": 14,
   "metadata": {},
   "outputs": [
    {
     "name": "stdout",
     "output_type": "stream",
     "text": [
      "{'key1': 123, 'key2': 456, 'special_key': 'secret', 'keyX': 'X'}\n"
     ]
    }
   ],
   "source": [
    "dict1 = dict(key1=\"This is not that hard\", key2=\"Python is still cool\")  #funkcja dict() zmienia key1 w wartość tekstowa\n",
    "dict2 = {\"key1\": 123, \"special_key\": \"secret\"}\n",
    "# Można również zainicjalizować słownik przez wykorzystanie listy krotek \n",
    "dict3 = dict([(\"key2\", 456), (\"keyX\", \"X\")])\n",
    "\n",
    "# Twoja implementacja\n",
    "my_dict = {**dict1, **dict2, **dict3}\n",
    "print(my_dict)\n",
    "special_value = my_dict.pop('special_key')\n",
    "\n",
    "\n",
    "# Sprawdźmy czy otrzymaliśmy poprawny wynik\n",
    "assert my_dict == {\"key1\": 123, \"key2\": 456, \"keyX\": \"X\"}\n",
    "assert special_value == \"secret\"\n",
    "# Sprawdźmy czy słowniki początkowe nie zostały zmienione\n",
    "assert dict1 == {\"key1\": \"This is not that hard\", \"key2\": \"Python is still cool\"}\n",
    "assert dict2 == {\"key1\": 123, \"special_key\": \"secret\"}\n",
    "assert dict3 == {\"key2\": 456, \"keyX\": \"X\"}"
   ]
  },
  {
   "cell_type": "markdown",
   "metadata": {},
   "source": [
    "Zadanie 1.3.1"
   ]
  },
  {
   "cell_type": "code",
   "execution_count": null,
   "metadata": {},
   "outputs": [
    {
     "name": "stdout",
     "output_type": "stream",
     "text": [
      "Name \"John Doe\" is 8, 9 or 10 chars long\n"
     ]
    }
   ],
   "source": [
    "name = \"John Doe\"\n",
    "if len(name) > 20:\n",
    "    print(f'Name \"{name}\" is more than 20 chars long')\n",
    "    length_description = \"long\"\n",
    "elif len(name) > 15:\n",
    "    print(f'Name \"{name}\" is more than 15 chars long')\n",
    "    length_description = \"semi long\"\n",
    "elif len(name) > 10:\n",
    "    print(f'Name \"{name}\" is more than 10 chars long')\n",
    "    length_description = \"semi long\"\n",
    "elif len(name) in range(8,11):\n",
    "    print(f'Name \"{name}\" is 8, 9 or 10 chars long')\n",
    "    length_description = \"semi short\"\n",
    "# elif len(name) >= 8 and len(name) <= 10:\n",
    "# elif 8 <= len(name) <= 10:\n",
    "# elif len(name) in [8,9,10]:\n",
    "else:\n",
    "    print(f'Name \"{name}\" is a short name')\n",
    "    length_description = \"short\"\n",
    "\n",
    "# Sprawdźmy czy otrzymaliśmy poprawny wynik\n",
    "assert length_description == \"semi short\""
   ]
  },
  {
   "cell_type": "markdown",
   "metadata": {},
   "source": [
    "Zadanie 1.3.2"
   ]
  },
  {
   "cell_type": "code",
   "execution_count": null,
   "metadata": {},
   "outputs": [],
   "source": [
    "words = [\"PYTHON\", \"JOHN\", \"chEEse\", \"hAm\", \"DOE\", \"123\"]\n",
    "upper_case_words = [] \n",
    "\n",
    "# v1\n",
    "for x in words: \n",
    "    if x.isupper():\n",
    "        upper_case_words.append(x)\n",
    "\n",
    "# v2 lista składana (list comprehention)\n",
    "upper_case_words = [word for word in words if word.isupper()] \n",
    "\n",
    "# przypadek z else\n",
    "upper_case_words = [i if i.isupper() else 1 for i in words]\n",
    "\n",
    "# Sprawdźmy czy otrzymaliśmy poprawny wynik\n",
    "assert upper_case_words == [\"PYTHON\", \"JOHN\", \"DOE\"]"
   ]
  },
  {
   "cell_type": "markdown",
   "metadata": {},
   "source": [
    "Zadanie 1.3.3"
   ]
  },
  {
   "cell_type": "code",
   "execution_count": null,
   "metadata": {},
   "outputs": [],
   "source": [
    "magic_dict = dict(val1=44, val2=\"secret value\", val3=55.0, val4=1)\n",
    "\n",
    "# Twoja implementacja\n",
    "# v1\n",
    "sum_of_values = 0\n",
    "for key in magic_dict.keys():\n",
    "    if isinstance(magic_dict[key], (int, float)):\n",
    "        sum_of_values += magic_dict[key]\n",
    "\n",
    "# v2 lista składana\n",
    "sum_of_values = sum([magic_dict[key] for key in magic_dict.keys() if isinstance(magic_dict[key],(int, float))])\n",
    "\n",
    "# Sprawdźmy czy otrzymaliśmy poprawny wynik\n",
    "assert sum_of_values == 100"
   ]
  },
  {
   "cell_type": "markdown",
   "metadata": {},
   "source": [
    "Zadanie 1.3.4"
   ]
  },
  {
   "cell_type": "code",
   "execution_count": 29,
   "metadata": {},
   "outputs": [
    {
     "ename": "SyntaxError",
     "evalue": "invalid syntax (2541794726.py, line 6)",
     "output_type": "error",
     "traceback": [
      "\u001b[0;36m  Cell \u001b[0;32mIn[29], line 6\u001b[0;36m\u001b[0m\n\u001b[0;31m    if number % 5 == 0 and number % == 1:\u001b[0m\n\u001b[0m                                    ^\u001b[0m\n\u001b[0;31mSyntaxError\u001b[0m\u001b[0;31m:\u001b[0m invalid syntax\n"
     ]
    }
   ],
   "source": [
    "numbers = [1, 3, 4, 6, 81, 80, 100, 95]\n",
    "\n",
    "# Twoja implementacja\n",
    "my_list = []\n",
    "for number in numbers:\n",
    "    if number % 5 == 0 and number % == 1:\n",
    "        my_list.append(\"five odd\")\n",
    "    elif number % 5 == 0 and number % 2 == 0:\n",
    "        my_list.append(\"five even\")\n",
    "    elif number % 2 == 1:\n",
    "        my_list.append(\"odd\")\n",
    "    elif number % 2 == 0:\n",
    "        my_list.append(\"even\")\n",
    "\n",
    "\n",
    "# Sprawdźmy czy otrzymaliśmy poprawny wynik\n",
    "assert my_list == [\n",
    "    \"odd\",\n",
    "    \"odd\",\n",
    "    \"even\",\n",
    "    \"even\",\n",
    "    \"odd\",\n",
    "    \"five even\",\n",
    "    \"five even\",\n",
    "    \"five odd\",\n",
    "]"
   ]
  },
  {
   "cell_type": "markdown",
   "metadata": {},
   "source": [
    "Zadanie 2.1"
   ]
  },
  {
   "cell_type": "code",
   "execution_count": null,
   "metadata": {},
   "outputs": [
    {
     "name": "stdout",
     "output_type": "stream",
     "text": [
      "Liczba punktów: 50\n",
      "Uzyskana ocena: 3.0\n",
      "Student zaliczył zadanie\n"
     ]
    }
   ],
   "source": [
    "# v1\n",
    "points = int(input(\"Liczba punktów z egazminy: \"))\n",
    "if points in range(90, 101):\n",
    "    mark = 5.0\n",
    "elif points in range(75, 90):\n",
    "    mark = 4.5\n",
    "elif points in range(65, 76):\n",
    "    mark = 4.0\n",
    "elif points in range(50, 57):\n",
    "    mark = 3.0\n",
    "elif points in range(0, 50):\n",
    "    mark = 2.0\n",
    "\n",
    "if mark >= 3.0:\n",
    "    print(f\"Uzyskana ocena: {mark}\")\n",
    "    print(\"Student zaliczył zadanie\")\n",
    "else:\n",
    "    print(f\"Uzyskana ocena: {mark}\")\n",
    "    print(\"Student nie zaliczył zadania\")\n",
    "\n",
    "# v2\n",
    "\n",
    "score = {\n",
    "    (90, 100): 5.0,\n",
    "    (75, 89): 4.5,\n",
    "    (65, 74): 4.0,\n",
    "    (60, 64): 3.5,\n",
    "    (50, 59): 3.0,\n",
    "    (0, 49): 2.0\n",
    "}\n",
    " \n",
    "punkty = int(input(\"Podaj liczbę punktów: \"))\n",
    " \n",
    "ocena = None\n",
    "for przedzial, ocena_wynik in score.items():\n",
    "    if przedzial[0] <= punkty <= przedzial[1]:\n",
    "        ocena = ocena_wynik\n",
    "        break\n",
    " \n",
    " \n",
    "print(f\"Liczba punktów: {punkty}\")\n",
    "if ocena >= 3.0:\n",
    "    print(f\"Uzyskana ocena: {ocena}\")\n",
    "    print(\"Student zaliczył zadanie\")\n",
    "else:\n",
    "    print(f\"Uzyskana ocena: {ocena}\")\n",
    "    print(\"Student nie zaliczył zadania\")"
   ]
  },
  {
   "cell_type": "markdown",
   "metadata": {},
   "source": [
    "Zadanie 2.2"
   ]
  },
  {
   "cell_type": "code",
   "execution_count": 34,
   "metadata": {},
   "outputs": [
    {
     "name": "stdout",
     "output_type": "stream",
     "text": [
      "Pora roku dla miesiąca maj to wiosna\n"
     ]
    }
   ],
   "source": [
    "seasons = {\"wiosna\" : (\"marzec\", \"kwiecień\", \"maj\", \"4\", \"5\", \"6\"),\n",
    "             \"lato\" : (\"czerwiec\", \"lipiec\", \"sierpień\", \"7\", \"8\", \"9\"),\n",
    "             \"jesien\" : (\"wrzesień\", \"październik\", \"listopad\", \"10\", \"11\", \"12\"),\n",
    "             \"zima\" : (\"grudzień\", \"styczeń\", \"luty\", \"1\", \"2\", \"3\")}\n",
    "\n",
    "month = input(\"Podaj miesiąc: \")\n",
    "\n",
    "season = None\n",
    "for pora, miesiące in seasons.items():\n",
    "    if month in miesiące: \n",
    "        season = pora\n",
    "        break\n",
    "\n",
    "print(f'Pora roku dla miesiąca {month} to {season}')\n",
    "\n",
    "\n",
    "# month = input(\"Wprowadź miesiąc: \")\n",
    "# seasons = {\n",
    "#     ('1', '2', '3', 'styczeń', 'luty', 'marzec'): \"zima\",\n",
    "#     ('4', '5', '6', 'kwiecień', 'maj', 'czerwiec'): \"wiosna\",\n",
    "#     ('7', '8', '9', 'lipiec', 'sierpień', 'wrzesień'): \"lato\",\n",
    "#     ('10', '11', '12', 'październik', 'listopad', 'grudzień'): \"jesień\",\n",
    "# }\n",
    "# # season = None\n",
    "# # for key, value in seasons.items():\n",
    "# #     if month in key:\n",
    "# #         season = value\n",
    "# #         break\n",
    " \n",
    "# season = [value for key, value in seasons.items() if month in key][0]\n",
    " \n",
    "# print(f'Pora roku dla miesiąca {month}: {season}')"
   ]
  },
  {
   "cell_type": "markdown",
   "metadata": {},
   "source": [
    "Zadanie 2.3"
   ]
  },
  {
   "cell_type": "code",
   "execution_count": 35,
   "metadata": {},
   "outputs": [
    {
     "name": "stdout",
     "output_type": "stream",
     "text": [
      "5\n",
      "tekst\n",
      "1.5\n",
      "[0]\n",
      "['tekst', 1, 1.5, True, [0]]\n",
      "['pierwszy', 'tekst', 1, 1.5, True, [0], 'Ostatni']\n"
     ]
    }
   ],
   "source": [
    "lista = ['tekst', 1, 1.5, True, [0]]\n",
    "print(len(lista))\n",
    "print(lista[0])\n",
    "print(lista[len(lista)//2])\n",
    "print(lista[-1])\n",
    "print(lista)\n",
    "lista.insert(0, 'pierwszy')\n",
    "lista.append('Ostatni')\n",
    "print(lista)"
   ]
  },
  {
   "cell_type": "markdown",
   "metadata": {},
   "source": [
    "Zadanie 2.4"
   ]
  },
  {
   "cell_type": "code",
   "execution_count": null,
   "metadata": {},
   "outputs": [
    {
     "name": "stdout",
     "output_type": "stream",
     "text": [
      "[1, 2, 3, 4, 5, 6, 7, 8, 9, 10]\n",
      "[10, 9, 8, 7, 6, 5, 4, 3, 2, 1]\n",
      "[10, 9, 8, 7, 6]\n",
      "[10, 9, 7, 6]\n",
      "[6, 7, 9, 10]\n",
      "W pierwszej liście występuje element 8\n"
     ]
    }
   ],
   "source": [
    "# list = [1, 2, 3, 4, 5, 6, 7, 8, 9, 10]\n",
    "# list.sort(reverse=True)\n",
    "# print(list)\n",
    "# n_list = list.copy[:5]\n",
    "# print(n_list)\n",
    "\n",
    "lista = [x for x in range(1,11)]\n",
    "#v2\n",
    "# lista = list(range(1,11))\n",
    "print(lista)\n",
    " \n",
    "lista.sort(reverse = True)\n",
    "print(lista)\n",
    " \n",
    "nowa_lista = lista[:5] # jak bierzemy tylko fragment listy to twory sie nowa lista a nie nadpisuje na stara\n",
    "print(nowa_lista)\n",
    " \n",
    "nowa_lista.remove(nowa_lista[len(nowa_lista)//2])\n",
    "print(nowa_lista)\n",
    " \n",
    "nowa_lista.sort()\n",
    "print(nowa_lista)\n",
    " \n",
    "element = 8\n",
    "if element in lista:\n",
    "  print(f'W pierwszej liście występuje element {element}')\n",
    " \n",
    "if element in nowa_lista:\n",
    "  print(f'W nowej liście występuje element {element}')\n",
    " \n",
    "del lista\n",
    "del nowa_lista\n"
   ]
  },
  {
   "cell_type": "markdown",
   "metadata": {},
   "source": [
    "Zadanie 2.5"
   ]
  },
  {
   "cell_type": "code",
   "execution_count": null,
   "metadata": {},
   "outputs": [
    {
     "name": "stdout",
     "output_type": "stream",
     "text": [
      "Działanie: 4.0 * 6.0\n",
      "Wynik: 24.0\n"
     ]
    }
   ],
   "source": [
    "number1 = float(input(\"Podaj liczbę: \"))\n",
    "string = str(input(\"Podaj działanie (+, -, *, /): \"))\n",
    "number2 = float(input(\"Podaj liczbę: \"))\n",
    "\n",
    "if string == \"+\":\n",
    "    wynik = number1 + number2 \n",
    "    print(f'Działanie: {number1} + {number2}')\n",
    "    print(f'Wynik: {wynik}')\n",
    "\n",
    "if string == \"-\":\n",
    "    wynik = number1 - number2 \n",
    "    print(f'Działanie: {number1} - {number2}')\n",
    "    print(f'Wynik: {wynik}')\n",
    "\n",
    "if string == \"*\":\n",
    "    wynik = number1 * number2 \n",
    "    print(f'Działanie: {number1} * {number2}')\n",
    "    print(f'Wynik: {wynik}')\n",
    "\n",
    "if string == \"/\":\n",
    "    wynik = number1 / number2 \n",
    "    print(f'Działanie: {number1} / {number2}')\n",
    "    print(f'Wynik: {wynik}')\n",
    "\n",
    "else:\n",
    "    wynik = \"Nieznany operot \"\n",
    "\n",
    "# v2\n",
    "licz1 = float(input(\"Podaj pierwszą liczbę: \"))\n",
    "licz2 = float(input(\"Podaj drugą liczbę: \"))\n",
    "operator = input(\"Podaj operator (+, -, *, /): \")\n",
    " \n",
    "# if operator == '+':\n",
    "#     wynik = licz1 + licz2\n",
    "# elif operator == '-':\n",
    "#     wynik = licz1 - licz2\n",
    "# elif operator == '*':\n",
    "#     wynik = licz1 * licz2\n",
    "# elif operator == '/':\n",
    "#     wynik = licz1 / licz2\n",
    "# else:\n",
    "#     wynik = \"Nieznany operator\"\n",
    " \n",
    "operators = {\n",
    "    '+': licz1 + licz2,\n",
    "    '-': licz1 - licz2,\n",
    "    '*': licz1 * licz2,\n",
    "    '/': licz1 / licz2\n",
    "}\n",
    " \n",
    "dzialanie = f\"{licz1} {operator} {licz2}\"\n",
    " \n",
    "# Wyświetlenie wyniku\n",
    "print(f\"Działanie: {dzialanie}\")\n",
    "if operator not in operators.keys():\n",
    "    print('Nieznany operator')\n",
    "else:\n",
    "    print(f\"Wynik: {operators[operator]}\")\n"
   ]
  },
  {
   "cell_type": "markdown",
   "metadata": {},
   "source": [
    "Zadanie 2.6"
   ]
  },
  {
   "cell_type": "code",
   "execution_count": null,
   "metadata": {},
   "outputs": [
    {
     "name": "stdout",
     "output_type": "stream",
     "text": [
      "Działanie 6 + 7\n",
      "Wynik 13.0\n"
     ]
    }
   ],
   "source": [
    "z= input(\"Podaj pełne działanie: \")\n",
    "\n",
    "lis=z.split()\n",
    "\n",
    "x=float(lis[0])\n",
    "y=float(lis[2])\n",
    "k=lis[1]\n",
    "\n",
    "dzialania = {\n",
    "    \"+\": x + y,\n",
    "    \"*\": x*y,\n",
    "    \"-\": x - y,\n",
    "    \"/\": x/y,\n",
    "}\n",
    "\n",
    "wynik = [value for key, value in dzialania.items() if k in key][0]\n",
    "\n",
    "print(f\"Działanie {z}\")\n",
    "print(f\"Wynik {wynik}\")\n"
   ]
  },
  {
   "cell_type": "markdown",
   "metadata": {},
   "source": [
    "Zadanie 2.7\n",
    "lista składana: [value for key, value in dzialania.items() if k in key]"
   ]
  },
  {
   "cell_type": "code",
   "execution_count": 53,
   "metadata": {},
   "outputs": [
    {
     "name": "stdout",
     "output_type": "stream",
     "text": [
      "[3, 6, 9, 12]\n"
     ]
    }
   ],
   "source": [
    "list1 = [-4, -3, -2, -1, 0, 3, 6, 9, 12]\n",
    "print([value for value in list1 if value > 0])"
   ]
  },
  {
   "cell_type": "markdown",
   "metadata": {},
   "source": [
    "Zadanie 2.8"
   ]
  },
  {
   "cell_type": "code",
   "execution_count": null,
   "metadata": {},
   "outputs": [
    {
     "name": "stdout",
     "output_type": "stream",
     "text": [
      "[(6.0, 1, 6.0, 36.0, 216.0), (6.0, 1, 6.0, 36.0, 216.0), (6.0, 1, 6.0, 36.0, 216.0), (6.0, 1, 6.0, 36.0, 216.0), (6.0, 1, 6.0, 36.0, 216.0), (6.0, 1, 6.0, 36.0, 216.0), (6.0, 1, 6.0, 36.0, 216.0), (6.0, 1, 6.0, 36.0, 216.0), (6.0, 1, 6.0, 36.0, 216.0), (6.0, 1, 6.0, 36.0, 216.0), (6.0, 1, 6.0, 36.0, 216.0)]\n"
     ]
    }
   ],
   "source": [
    "krotka = (x, 1, x, x**2, x**3)\n",
    "\n",
    "lista = [(x, 1, x, x**2, x**3) for x in range(11)]\n",
    "\n",
    "print(lista)\n",
    "\n"
   ]
  },
  {
   "cell_type": "markdown",
   "metadata": {},
   "source": [
    "Zadanie 2.9"
   ]
  },
  {
   "cell_type": "code",
   "execution_count": 58,
   "metadata": {},
   "outputs": [
    {
     "name": "stdout",
     "output_type": "stream",
     "text": [
      "8\n",
      "5\n",
      "[22, 19, 24, 25, 26, 24, 25, 24]\n"
     ]
    }
   ],
   "source": [
    "lista = [22, 19, 24, 25, 26, 24, 25, 24]\n",
    "\n",
    "zbiór = set(lista)\n",
    "print(len(lista))\n",
    "print(len(zbiór))\n",
    "print(lista if len(lista)> len(zbiór) else zbiór)\n"
   ]
  },
  {
   "cell_type": "markdown",
   "metadata": {},
   "source": [
    "Zadanie 2.10"
   ]
  },
  {
   "cell_type": "code",
   "execution_count": 62,
   "metadata": {},
   "outputs": [
    {
     "name": "stdout",
     "output_type": "stream",
     "text": [
      "2 * 1 = 2\n",
      "2 * 2 = 4\n",
      "2 * 3 = 6\n",
      "2 * 4 = 8\n",
      "2 * 5 = 10\n",
      "2 * 6 = 12\n",
      "2 * 7 = 14\n",
      "2 * 8 = 16\n",
      "2 * 9 = 18\n",
      "2 * 10 = 20\n"
     ]
    }
   ],
   "source": [
    "x = int(input(\"Wprowadź dowolną liczbę: \"))\n",
    "\n",
    "for y in range(1,11):\n",
    "    print(f'{x} * {y} = {x*y}')\n"
   ]
  },
  {
   "cell_type": "markdown",
   "metadata": {},
   "source": [
    "Zadanie 11"
   ]
  },
  {
   "cell_type": "code",
   "execution_count": 63,
   "metadata": {},
   "outputs": [
    {
     "name": "stdout",
     "output_type": "stream",
     "text": [
      "Suma liczb parzystych: 2550\n",
      "Suma liczb nieparzystych: 2500\n"
     ]
    }
   ],
   "source": [
    "\n",
    "# for x in range(101):\n",
    "#     if x % 2 == 0:\n",
    "#         wynik = x + x\n",
    "\n",
    "\n",
    "suma_parzyste = sum(i for i in range(101) if i % 2 == 0)\n",
    "suma_nieparzyste = sum(i for i in range(101) if i % 2 == 1)\n",
    " \n",
    "print(f'Suma liczb parzystych: {suma_parzyste}')\n",
    "print(f'Suma liczb nieparzystych: {suma_nieparzyste}')\n",
    " "
   ]
  },
  {
   "cell_type": "markdown",
   "metadata": {},
   "source": [
    "Zadanie 12"
   ]
  },
  {
   "cell_type": "code",
   "execution_count": null,
   "metadata": {},
   "outputs": [
    {
     "name": "stdout",
     "output_type": "stream",
     "text": [
      "Uczę się Pythona, aby móc tworzyć aplikacje\n",
      "Liczba unikalnych słów: 7\n",
      "Liczba słów: 7\n",
      "Dużą zaletą Pythona jest to że jest bardzo zbliżony do języka angielskiego\n",
      "Liczba unikalnych słów: 11\n",
      "Liczba słów: 12\n",
      "Posiada prostą składnię, ale czasami potrafi być skomplikowany przez wysoki poziom abstracji\n",
      "Liczba unikalnych słów: 12\n",
      "Liczba słów: 12\n",
      "Jednak dobrze jest się nauczyć Pythona, aby dalej rozwijać się w stronę programowania.\n",
      "Liczba unikalnych słów: 12\n",
      "Liczba słów: 13\n"
     ]
    }
   ],
   "source": [
    "tekst = \"Uczę się Pythona, aby móc tworzyć aplikacje. Dużą zaletą Pythona jest to że jest bardzo zbliżony do języka angielskiego. Posiada prostą składnię, ale czasami potrafi być skomplikowany przez wysoki poziom abstracji. Jednak dobrze jest się nauczyć Pythona, aby dalej rozwijać się w stronę programowania.\"\n",
    "\n",
    "# zdania = tekst.split('.')\n",
    "\n",
    "# for zdanie in zdania:\n",
    "#     slowa = zdania.split(' ')\n",
    "#     print(slowa)\n",
    "#     unikalne = set(slowa)\n",
    "#     print(unikalne)\n",
    " \n",
    "# print(f'unikalne słów jest {len(unikalne)}, wszystkich słow jest {len(slowa)}')\n",
    "\n",
    "zdania = tekst.split('. ')\n",
    " \n",
    "for zdanie in zdania:\n",
    "    print(zdanie)\n",
    "    slowa = zdanie.split(' ')\n",
    "    print(f'Liczba unikalnych słów: {len(set(slowa))}')\n",
    "    print(f'Liczba słów: {len(slowa)}')"
   ]
  },
  {
   "cell_type": "markdown",
   "metadata": {},
   "source": [
    "Zadanie 2.13"
   ]
  },
  {
   "cell_type": "code",
   "execution_count": null,
   "metadata": {},
   "outputs": [],
   "source": [
    "X = [\n",
    "    [12,9,3],\n",
    "    [4,5,6],\n",
    "    [7,8,3]\n",
    "]\n",
    "Y = [\n",
    "    [9,8,1],\n",
    "    [6,7,3],\n",
    "    [4,5,9]\n",
    "]\n",
    " \n",
    "result = []\n",
    "for i in range(len(X)):\n",
    "    row = []\n",
    "    for j in range(len(X[i])):\n",
    "        row.append(X[i][j] + Y[i][j])\n",
    "    result.append(row)\n",
    " \n",
    "assert result == [[21, 17, 4], [10, 12, 9], [11, 13, 12]]"
   ]
  }
 ],
 "metadata": {
  "kernelspec": {
   "display_name": "Python 3",
   "language": "python",
   "name": "python3"
  },
  "language_info": {
   "codemirror_mode": {
    "name": "ipython",
    "version": 3
   },
   "file_extension": ".py",
   "mimetype": "text/x-python",
   "name": "python",
   "nbconvert_exporter": "python",
   "pygments_lexer": "ipython3",
   "version": "3.13.0"
  }
 },
 "nbformat": 4,
 "nbformat_minor": 2
}
